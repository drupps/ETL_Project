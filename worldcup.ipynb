{
 "metadata": {
  "language_info": {
   "codemirror_mode": {
    "name": "ipython",
    "version": 3
   },
   "file_extension": ".py",
   "mimetype": "text/x-python",
   "name": "python",
   "nbconvert_exporter": "python",
   "pygments_lexer": "ipython3",
   "version": "3.6.10-final"
  },
  "orig_nbformat": 2,
  "kernelspec": {
   "name": "python361064bitbcsconda715a4e0bf0024e7fa1360ca0d3a25794",
   "display_name": "Python 3.6.10 64-bit ('bcs': conda)"
  }
 },
 "nbformat": 4,
 "nbformat_minor": 2,
 "cells": [
  {
   "cell_type": "code",
   "execution_count": 112,
   "metadata": {},
   "outputs": [],
   "source": [
    "#imports\n",
    "import pandas as pd\n",
    "import datetime as dt"
   ]
  },
  {
   "cell_type": "code",
   "execution_count": 113,
   "metadata": {},
   "outputs": [],
   "source": [
    "# The path to our CSV file\n",
    "worldcup_file = \"data/world_cup_data/WorldCupMatches.csv\"\n",
    "# Read our world cup data into pandas\n",
    "worldcup_original = pd.read_csv(worldcup_file, encoding=\"ISO-8859-1\")\n",
    "#worldcup_df"
   ]
  },
  {
   "cell_type": "code",
   "execution_count": 114,
   "metadata": {},
   "outputs": [
    {
     "output_type": "execute_result",
     "data": {
      "text/plain": [
       "Year                    float64\n",
       "Datetime                 object\n",
       "Stage                    object\n",
       "Stadium                  object\n",
       "City                     object\n",
       "Home Team Name           object\n",
       "Home Team Goals         float64\n",
       "Away Team Goals         float64\n",
       "Away Team Name           object\n",
       "Win conditions           object\n",
       "Attendance              float64\n",
       "Half-time Home Goals    float64\n",
       "Half-time Away Goals    float64\n",
       "Referee                  object\n",
       "Assistant 1              object\n",
       "Assistant 2              object\n",
       "RoundID                 float64\n",
       "MatchID                 float64\n",
       "Home Team Initials       object\n",
       "Away Team Initials       object\n",
       "dtype: object"
      ]
     },
     "metadata": {},
     "execution_count": 114
    }
   ],
   "source": [
    "# previewing the data types of each column\n",
    "worldcup_original.dtypes"
   ]
  },
  {
   "cell_type": "code",
   "execution_count": 115,
   "metadata": {},
   "outputs": [
    {
     "output_type": "execute_result",
     "data": {
      "text/plain": [
       "        Year              Datetime    Stage         Stadium         City  \\\n",
       "0     1930.0  13 Jul 1930 - 15:00   Group 1         Pocitos  Montevideo    \n",
       "1     1930.0  13 Jul 1930 - 15:00   Group 4  Parque Central  Montevideo    \n",
       "2     1930.0  14 Jul 1930 - 12:45   Group 2  Parque Central  Montevideo    \n",
       "3     1930.0  14 Jul 1930 - 14:50   Group 3         Pocitos  Montevideo    \n",
       "4     1930.0  15 Jul 1930 - 16:00   Group 1  Parque Central  Montevideo    \n",
       "...      ...                   ...      ...             ...          ...   \n",
       "4567     NaN                   NaN      NaN             NaN          NaN   \n",
       "4568     NaN                   NaN      NaN             NaN          NaN   \n",
       "4569     NaN                   NaN      NaN             NaN          NaN   \n",
       "4570     NaN                   NaN      NaN             NaN          NaN   \n",
       "4571     NaN                   NaN      NaN             NaN          NaN   \n",
       "\n",
       "     Home Team Name  Home Team Goals  Away Team Goals Away Team Name  \\\n",
       "0            France              4.0              1.0         Mexico   \n",
       "1               USA              3.0              0.0        Belgium   \n",
       "2        Yugoslavia              2.0              1.0         Brazil   \n",
       "3           Romania              3.0              1.0           Peru   \n",
       "4         Argentina              1.0              0.0         France   \n",
       "...             ...              ...              ...            ...   \n",
       "4567            NaN              NaN              NaN            NaN   \n",
       "4568            NaN              NaN              NaN            NaN   \n",
       "4569            NaN              NaN              NaN            NaN   \n",
       "4570            NaN              NaN              NaN            NaN   \n",
       "4571            NaN              NaN              NaN            NaN   \n",
       "\n",
       "     Win conditions  Attendance  Half-time Home Goals  Half-time Away Goals  \\\n",
       "0                        4444.0                   3.0                   0.0   \n",
       "1                       18346.0                   2.0                   0.0   \n",
       "2                       24059.0                   2.0                   0.0   \n",
       "3                        2549.0                   1.0                   0.0   \n",
       "4                       23409.0                   0.0                   0.0   \n",
       "...             ...         ...                   ...                   ...   \n",
       "4567            NaN         NaN                   NaN                   NaN   \n",
       "4568            NaN         NaN                   NaN                   NaN   \n",
       "4569            NaN         NaN                   NaN                   NaN   \n",
       "4570            NaN         NaN                   NaN                   NaN   \n",
       "4571            NaN         NaN                   NaN                   NaN   \n",
       "\n",
       "                     Referee               Assistant 1  \\\n",
       "0     LOMBARDI Domingo (URU)     CRISTOPHE Henry (BEL)   \n",
       "1          MACIAS Jose (ARG)  MATEUCCI Francisco (URU)   \n",
       "2        TEJADA Anibal (URU)   VALLARINO Ricardo (URU)   \n",
       "3      WARNKEN Alberto (CHI)       LANGENUS Jean (BEL)   \n",
       "4        REGO Gilberto (BRA)      SAUCEDO Ulises (BOL)   \n",
       "...                      ...                       ...   \n",
       "4567                     NaN                       NaN   \n",
       "4568                     NaN                       NaN   \n",
       "4569                     NaN                       NaN   \n",
       "4570                     NaN                       NaN   \n",
       "4571                     NaN                       NaN   \n",
       "\n",
       "                     Assistant 2  RoundID  MatchID Home Team Initials  \\\n",
       "0            REGO Gilberto (BRA)    201.0   1096.0                FRA   \n",
       "1          WARNKEN Alberto (CHI)    201.0   1090.0                USA   \n",
       "2            BALWAY Thomas (FRA)    201.0   1093.0                YUG   \n",
       "3       MATEUCCI Francisco (URU)    201.0   1098.0                ROU   \n",
       "4     RADULESCU Constantin (ROU)    201.0   1085.0                ARG   \n",
       "...                          ...      ...      ...                ...   \n",
       "4567                         NaN      NaN      NaN                NaN   \n",
       "4568                         NaN      NaN      NaN                NaN   \n",
       "4569                         NaN      NaN      NaN                NaN   \n",
       "4570                         NaN      NaN      NaN                NaN   \n",
       "4571                         NaN      NaN      NaN                NaN   \n",
       "\n",
       "     Away Team Initials  \n",
       "0                   MEX  \n",
       "1                   BEL  \n",
       "2                   BRA  \n",
       "3                   PER  \n",
       "4                   FRA  \n",
       "...                 ...  \n",
       "4567                NaN  \n",
       "4568                NaN  \n",
       "4569                NaN  \n",
       "4570                NaN  \n",
       "4571                NaN  \n",
       "\n",
       "[4572 rows x 20 columns]"
      ],
      "text/html": "<div>\n<style scoped>\n    .dataframe tbody tr th:only-of-type {\n        vertical-align: middle;\n    }\n\n    .dataframe tbody tr th {\n        vertical-align: top;\n    }\n\n    .dataframe thead th {\n        text-align: right;\n    }\n</style>\n<table border=\"1\" class=\"dataframe\">\n  <thead>\n    <tr style=\"text-align: right;\">\n      <th></th>\n      <th>Year</th>\n      <th>Datetime</th>\n      <th>Stage</th>\n      <th>Stadium</th>\n      <th>City</th>\n      <th>Home Team Name</th>\n      <th>Home Team Goals</th>\n      <th>Away Team Goals</th>\n      <th>Away Team Name</th>\n      <th>Win conditions</th>\n      <th>Attendance</th>\n      <th>Half-time Home Goals</th>\n      <th>Half-time Away Goals</th>\n      <th>Referee</th>\n      <th>Assistant 1</th>\n      <th>Assistant 2</th>\n      <th>RoundID</th>\n      <th>MatchID</th>\n      <th>Home Team Initials</th>\n      <th>Away Team Initials</th>\n    </tr>\n  </thead>\n  <tbody>\n    <tr>\n      <th>0</th>\n      <td>1930.0</td>\n      <td>13 Jul 1930 - 15:00</td>\n      <td>Group 1</td>\n      <td>Pocitos</td>\n      <td>Montevideo</td>\n      <td>France</td>\n      <td>4.0</td>\n      <td>1.0</td>\n      <td>Mexico</td>\n      <td></td>\n      <td>4444.0</td>\n      <td>3.0</td>\n      <td>0.0</td>\n      <td>LOMBARDI Domingo (URU)</td>\n      <td>CRISTOPHE Henry (BEL)</td>\n      <td>REGO Gilberto (BRA)</td>\n      <td>201.0</td>\n      <td>1096.0</td>\n      <td>FRA</td>\n      <td>MEX</td>\n    </tr>\n    <tr>\n      <th>1</th>\n      <td>1930.0</td>\n      <td>13 Jul 1930 - 15:00</td>\n      <td>Group 4</td>\n      <td>Parque Central</td>\n      <td>Montevideo</td>\n      <td>USA</td>\n      <td>3.0</td>\n      <td>0.0</td>\n      <td>Belgium</td>\n      <td></td>\n      <td>18346.0</td>\n      <td>2.0</td>\n      <td>0.0</td>\n      <td>MACIAS Jose (ARG)</td>\n      <td>MATEUCCI Francisco (URU)</td>\n      <td>WARNKEN Alberto (CHI)</td>\n      <td>201.0</td>\n      <td>1090.0</td>\n      <td>USA</td>\n      <td>BEL</td>\n    </tr>\n    <tr>\n      <th>2</th>\n      <td>1930.0</td>\n      <td>14 Jul 1930 - 12:45</td>\n      <td>Group 2</td>\n      <td>Parque Central</td>\n      <td>Montevideo</td>\n      <td>Yugoslavia</td>\n      <td>2.0</td>\n      <td>1.0</td>\n      <td>Brazil</td>\n      <td></td>\n      <td>24059.0</td>\n      <td>2.0</td>\n      <td>0.0</td>\n      <td>TEJADA Anibal (URU)</td>\n      <td>VALLARINO Ricardo (URU)</td>\n      <td>BALWAY Thomas (FRA)</td>\n      <td>201.0</td>\n      <td>1093.0</td>\n      <td>YUG</td>\n      <td>BRA</td>\n    </tr>\n    <tr>\n      <th>3</th>\n      <td>1930.0</td>\n      <td>14 Jul 1930 - 14:50</td>\n      <td>Group 3</td>\n      <td>Pocitos</td>\n      <td>Montevideo</td>\n      <td>Romania</td>\n      <td>3.0</td>\n      <td>1.0</td>\n      <td>Peru</td>\n      <td></td>\n      <td>2549.0</td>\n      <td>1.0</td>\n      <td>0.0</td>\n      <td>WARNKEN Alberto (CHI)</td>\n      <td>LANGENUS Jean (BEL)</td>\n      <td>MATEUCCI Francisco (URU)</td>\n      <td>201.0</td>\n      <td>1098.0</td>\n      <td>ROU</td>\n      <td>PER</td>\n    </tr>\n    <tr>\n      <th>4</th>\n      <td>1930.0</td>\n      <td>15 Jul 1930 - 16:00</td>\n      <td>Group 1</td>\n      <td>Parque Central</td>\n      <td>Montevideo</td>\n      <td>Argentina</td>\n      <td>1.0</td>\n      <td>0.0</td>\n      <td>France</td>\n      <td></td>\n      <td>23409.0</td>\n      <td>0.0</td>\n      <td>0.0</td>\n      <td>REGO Gilberto (BRA)</td>\n      <td>SAUCEDO Ulises (BOL)</td>\n      <td>RADULESCU Constantin (ROU)</td>\n      <td>201.0</td>\n      <td>1085.0</td>\n      <td>ARG</td>\n      <td>FRA</td>\n    </tr>\n    <tr>\n      <th>...</th>\n      <td>...</td>\n      <td>...</td>\n      <td>...</td>\n      <td>...</td>\n      <td>...</td>\n      <td>...</td>\n      <td>...</td>\n      <td>...</td>\n      <td>...</td>\n      <td>...</td>\n      <td>...</td>\n      <td>...</td>\n      <td>...</td>\n      <td>...</td>\n      <td>...</td>\n      <td>...</td>\n      <td>...</td>\n      <td>...</td>\n      <td>...</td>\n      <td>...</td>\n    </tr>\n    <tr>\n      <th>4567</th>\n      <td>NaN</td>\n      <td>NaN</td>\n      <td>NaN</td>\n      <td>NaN</td>\n      <td>NaN</td>\n      <td>NaN</td>\n      <td>NaN</td>\n      <td>NaN</td>\n      <td>NaN</td>\n      <td>NaN</td>\n      <td>NaN</td>\n      <td>NaN</td>\n      <td>NaN</td>\n      <td>NaN</td>\n      <td>NaN</td>\n      <td>NaN</td>\n      <td>NaN</td>\n      <td>NaN</td>\n      <td>NaN</td>\n      <td>NaN</td>\n    </tr>\n    <tr>\n      <th>4568</th>\n      <td>NaN</td>\n      <td>NaN</td>\n      <td>NaN</td>\n      <td>NaN</td>\n      <td>NaN</td>\n      <td>NaN</td>\n      <td>NaN</td>\n      <td>NaN</td>\n      <td>NaN</td>\n      <td>NaN</td>\n      <td>NaN</td>\n      <td>NaN</td>\n      <td>NaN</td>\n      <td>NaN</td>\n      <td>NaN</td>\n      <td>NaN</td>\n      <td>NaN</td>\n      <td>NaN</td>\n      <td>NaN</td>\n      <td>NaN</td>\n    </tr>\n    <tr>\n      <th>4569</th>\n      <td>NaN</td>\n      <td>NaN</td>\n      <td>NaN</td>\n      <td>NaN</td>\n      <td>NaN</td>\n      <td>NaN</td>\n      <td>NaN</td>\n      <td>NaN</td>\n      <td>NaN</td>\n      <td>NaN</td>\n      <td>NaN</td>\n      <td>NaN</td>\n      <td>NaN</td>\n      <td>NaN</td>\n      <td>NaN</td>\n      <td>NaN</td>\n      <td>NaN</td>\n      <td>NaN</td>\n      <td>NaN</td>\n      <td>NaN</td>\n    </tr>\n    <tr>\n      <th>4570</th>\n      <td>NaN</td>\n      <td>NaN</td>\n      <td>NaN</td>\n      <td>NaN</td>\n      <td>NaN</td>\n      <td>NaN</td>\n      <td>NaN</td>\n      <td>NaN</td>\n      <td>NaN</td>\n      <td>NaN</td>\n      <td>NaN</td>\n      <td>NaN</td>\n      <td>NaN</td>\n      <td>NaN</td>\n      <td>NaN</td>\n      <td>NaN</td>\n      <td>NaN</td>\n      <td>NaN</td>\n      <td>NaN</td>\n      <td>NaN</td>\n    </tr>\n    <tr>\n      <th>4571</th>\n      <td>NaN</td>\n      <td>NaN</td>\n      <td>NaN</td>\n      <td>NaN</td>\n      <td>NaN</td>\n      <td>NaN</td>\n      <td>NaN</td>\n      <td>NaN</td>\n      <td>NaN</td>\n      <td>NaN</td>\n      <td>NaN</td>\n      <td>NaN</td>\n      <td>NaN</td>\n      <td>NaN</td>\n      <td>NaN</td>\n      <td>NaN</td>\n      <td>NaN</td>\n      <td>NaN</td>\n      <td>NaN</td>\n      <td>NaN</td>\n    </tr>\n  </tbody>\n</table>\n<p>4572 rows × 20 columns</p>\n</div>"
     },
     "metadata": {},
     "execution_count": 115
    }
   ],
   "source": [
    "# Check to see if there are any rows with missing data\n",
    "worldcup_original.count()\n",
    "worldcup_original"
   ]
  },
  {
   "cell_type": "code",
   "execution_count": 116,
   "metadata": {},
   "outputs": [
    {
     "output_type": "execute_result",
     "data": {
      "text/plain": [
       "       Year             City Home Team Name Away Team Name  Home Team Goals  \\\n",
       "0    1930.0      Montevideo          France         Mexico              4.0   \n",
       "1    1930.0      Montevideo             USA        Belgium              3.0   \n",
       "2    1930.0      Montevideo      Yugoslavia         Brazil              2.0   \n",
       "3    1930.0      Montevideo         Romania           Peru              3.0   \n",
       "4    1930.0      Montevideo       Argentina         France              1.0   \n",
       "..      ...              ...            ...            ...              ...   \n",
       "847  2014.0        Salvador     Netherlands     Costa Rica              0.0   \n",
       "848  2014.0  Belo Horizonte          Brazil        Germany              1.0   \n",
       "849  2014.0       Sao Paulo     Netherlands      Argentina              0.0   \n",
       "850  2014.0        Brasilia          Brazil    Netherlands              0.0   \n",
       "851  2014.0  Rio De Janeiro         Germany      Argentina              1.0   \n",
       "\n",
       "     Away Team Goals  \n",
       "0                1.0  \n",
       "1                0.0  \n",
       "2                1.0  \n",
       "3                1.0  \n",
       "4                0.0  \n",
       "..               ...  \n",
       "847              0.0  \n",
       "848              7.0  \n",
       "849              0.0  \n",
       "850              3.0  \n",
       "851              0.0  \n",
       "\n",
       "[852 rows x 6 columns]"
      ],
      "text/html": "<div>\n<style scoped>\n    .dataframe tbody tr th:only-of-type {\n        vertical-align: middle;\n    }\n\n    .dataframe tbody tr th {\n        vertical-align: top;\n    }\n\n    .dataframe thead th {\n        text-align: right;\n    }\n</style>\n<table border=\"1\" class=\"dataframe\">\n  <thead>\n    <tr style=\"text-align: right;\">\n      <th></th>\n      <th>Year</th>\n      <th>City</th>\n      <th>Home Team Name</th>\n      <th>Away Team Name</th>\n      <th>Home Team Goals</th>\n      <th>Away Team Goals</th>\n    </tr>\n  </thead>\n  <tbody>\n    <tr>\n      <th>0</th>\n      <td>1930.0</td>\n      <td>Montevideo</td>\n      <td>France</td>\n      <td>Mexico</td>\n      <td>4.0</td>\n      <td>1.0</td>\n    </tr>\n    <tr>\n      <th>1</th>\n      <td>1930.0</td>\n      <td>Montevideo</td>\n      <td>USA</td>\n      <td>Belgium</td>\n      <td>3.0</td>\n      <td>0.0</td>\n    </tr>\n    <tr>\n      <th>2</th>\n      <td>1930.0</td>\n      <td>Montevideo</td>\n      <td>Yugoslavia</td>\n      <td>Brazil</td>\n      <td>2.0</td>\n      <td>1.0</td>\n    </tr>\n    <tr>\n      <th>3</th>\n      <td>1930.0</td>\n      <td>Montevideo</td>\n      <td>Romania</td>\n      <td>Peru</td>\n      <td>3.0</td>\n      <td>1.0</td>\n    </tr>\n    <tr>\n      <th>4</th>\n      <td>1930.0</td>\n      <td>Montevideo</td>\n      <td>Argentina</td>\n      <td>France</td>\n      <td>1.0</td>\n      <td>0.0</td>\n    </tr>\n    <tr>\n      <th>...</th>\n      <td>...</td>\n      <td>...</td>\n      <td>...</td>\n      <td>...</td>\n      <td>...</td>\n      <td>...</td>\n    </tr>\n    <tr>\n      <th>847</th>\n      <td>2014.0</td>\n      <td>Salvador</td>\n      <td>Netherlands</td>\n      <td>Costa Rica</td>\n      <td>0.0</td>\n      <td>0.0</td>\n    </tr>\n    <tr>\n      <th>848</th>\n      <td>2014.0</td>\n      <td>Belo Horizonte</td>\n      <td>Brazil</td>\n      <td>Germany</td>\n      <td>1.0</td>\n      <td>7.0</td>\n    </tr>\n    <tr>\n      <th>849</th>\n      <td>2014.0</td>\n      <td>Sao Paulo</td>\n      <td>Netherlands</td>\n      <td>Argentina</td>\n      <td>0.0</td>\n      <td>0.0</td>\n    </tr>\n    <tr>\n      <th>850</th>\n      <td>2014.0</td>\n      <td>Brasilia</td>\n      <td>Brazil</td>\n      <td>Netherlands</td>\n      <td>0.0</td>\n      <td>3.0</td>\n    </tr>\n    <tr>\n      <th>851</th>\n      <td>2014.0</td>\n      <td>Rio De Janeiro</td>\n      <td>Germany</td>\n      <td>Argentina</td>\n      <td>1.0</td>\n      <td>0.0</td>\n    </tr>\n  </tbody>\n</table>\n<p>852 rows × 6 columns</p>\n</div>"
     },
     "metadata": {},
     "execution_count": 116
    }
   ],
   "source": [
    "worldcup_cleaning = worldcup_original.loc[0:851, [\"Year\", \"City\", \"Home Team Name\", \"Away Team Name\", \"Home Team Goals\", \"Away Team Goals\"]]\n",
    "\n",
    "worldcup_cleaning"
   ]
  },
  {
   "cell_type": "code",
   "execution_count": 117,
   "metadata": {},
   "outputs": [
    {
     "output_type": "execute_result",
     "data": {
      "text/plain": [
       "Year               float64\n",
       "City                object\n",
       "Home Team Name      object\n",
       "Away Team Name      object\n",
       "Home Team Goals    float64\n",
       "Away Team Goals    float64\n",
       "dtype: object"
      ]
     },
     "metadata": {},
     "execution_count": 117
    }
   ],
   "source": [
    "worldcup_cleaning.dtypes"
   ]
  },
  {
   "cell_type": "code",
   "execution_count": 118,
   "metadata": {},
   "outputs": [],
   "source": [
    "worldcup_cleaning['Year'] = worldcup_cleaning['Year'].astype(int)"
   ]
  },
  {
   "cell_type": "code",
   "execution_count": 120,
   "metadata": {},
   "outputs": [
    {
     "output_type": "execute_result",
     "data": {
      "text/plain": [
       "     Year                                City  Home Team Name Away Team Name  \\\n",
       "708  2010                       Johannesburg     South Africa         Mexico   \n",
       "709  2010                          Cape Town          Uruguay         France   \n",
       "710  2010  Nelson Mandela Bay/Port Elizabeth   Korea Republic         Greece   \n",
       "711  2010                       Johannesburg        Argentina        Nigeria   \n",
       "712  2010                            Phokeng          England            USA   \n",
       "..    ...                                 ...             ...            ...   \n",
       "767  2010                       Johannesburg         Paraguay          Spain   \n",
       "768  2010                          Cape Town          Uruguay    Netherlands   \n",
       "769  2010                             Durban          Germany          Spain   \n",
       "770  2010  Nelson Mandela Bay/Port Elizabeth          Uruguay        Germany   \n",
       "771  2010                       Johannesburg      Netherlands          Spain   \n",
       "\n",
       "     Home Team Goals  Away Team Goals  \n",
       "708              1.0              1.0  \n",
       "709              0.0              0.0  \n",
       "710              2.0              0.0  \n",
       "711              1.0              0.0  \n",
       "712              1.0              1.0  \n",
       "..               ...              ...  \n",
       "767              0.0              1.0  \n",
       "768              2.0              3.0  \n",
       "769              0.0              1.0  \n",
       "770              2.0              3.0  \n",
       "771              0.0              1.0  \n",
       "\n",
       "[64 rows x 6 columns]"
      ],
      "text/html": "<div>\n<style scoped>\n    .dataframe tbody tr th:only-of-type {\n        vertical-align: middle;\n    }\n\n    .dataframe tbody tr th {\n        vertical-align: top;\n    }\n\n    .dataframe thead th {\n        text-align: right;\n    }\n</style>\n<table border=\"1\" class=\"dataframe\">\n  <thead>\n    <tr style=\"text-align: right;\">\n      <th></th>\n      <th>Year</th>\n      <th>City</th>\n      <th>Home Team Name</th>\n      <th>Away Team Name</th>\n      <th>Home Team Goals</th>\n      <th>Away Team Goals</th>\n    </tr>\n  </thead>\n  <tbody>\n    <tr>\n      <th>708</th>\n      <td>2010</td>\n      <td>Johannesburg</td>\n      <td>South Africa</td>\n      <td>Mexico</td>\n      <td>1.0</td>\n      <td>1.0</td>\n    </tr>\n    <tr>\n      <th>709</th>\n      <td>2010</td>\n      <td>Cape Town</td>\n      <td>Uruguay</td>\n      <td>France</td>\n      <td>0.0</td>\n      <td>0.0</td>\n    </tr>\n    <tr>\n      <th>710</th>\n      <td>2010</td>\n      <td>Nelson Mandela Bay/Port Elizabeth</td>\n      <td>Korea Republic</td>\n      <td>Greece</td>\n      <td>2.0</td>\n      <td>0.0</td>\n    </tr>\n    <tr>\n      <th>711</th>\n      <td>2010</td>\n      <td>Johannesburg</td>\n      <td>Argentina</td>\n      <td>Nigeria</td>\n      <td>1.0</td>\n      <td>0.0</td>\n    </tr>\n    <tr>\n      <th>712</th>\n      <td>2010</td>\n      <td>Phokeng</td>\n      <td>England</td>\n      <td>USA</td>\n      <td>1.0</td>\n      <td>1.0</td>\n    </tr>\n    <tr>\n      <th>...</th>\n      <td>...</td>\n      <td>...</td>\n      <td>...</td>\n      <td>...</td>\n      <td>...</td>\n      <td>...</td>\n    </tr>\n    <tr>\n      <th>767</th>\n      <td>2010</td>\n      <td>Johannesburg</td>\n      <td>Paraguay</td>\n      <td>Spain</td>\n      <td>0.0</td>\n      <td>1.0</td>\n    </tr>\n    <tr>\n      <th>768</th>\n      <td>2010</td>\n      <td>Cape Town</td>\n      <td>Uruguay</td>\n      <td>Netherlands</td>\n      <td>2.0</td>\n      <td>3.0</td>\n    </tr>\n    <tr>\n      <th>769</th>\n      <td>2010</td>\n      <td>Durban</td>\n      <td>Germany</td>\n      <td>Spain</td>\n      <td>0.0</td>\n      <td>1.0</td>\n    </tr>\n    <tr>\n      <th>770</th>\n      <td>2010</td>\n      <td>Nelson Mandela Bay/Port Elizabeth</td>\n      <td>Uruguay</td>\n      <td>Germany</td>\n      <td>2.0</td>\n      <td>3.0</td>\n    </tr>\n    <tr>\n      <th>771</th>\n      <td>2010</td>\n      <td>Johannesburg</td>\n      <td>Netherlands</td>\n      <td>Spain</td>\n      <td>0.0</td>\n      <td>1.0</td>\n    </tr>\n  </tbody>\n</table>\n<p>64 rows × 6 columns</p>\n</div>"
     },
     "metadata": {},
     "execution_count": 120
    }
   ],
   "source": [
    "worldcup_year = worldcup_cleaning.loc[worldcup_cleaning[\"Year\"] == 2010, :]\n",
    "worldcup_year"
   ]
  },
  {
   "cell_type": "code",
   "execution_count": 121,
   "metadata": {},
   "outputs": [],
   "source": [
    "worldcup_year = worldcup_year.rename(columns={\"Year\": \"year\", \"City\": \"city\", \"Home Team Name\": \"home_team_name\",\n",
    "                                      \"Away Team Name\": \"away_team_name\", \"Home Team Goals\": \"home_team_goals\", \"Away Team Goals\": \"away_team_goals\"})"
   ]
  },
  {
   "cell_type": "code",
   "execution_count": 123,
   "metadata": {},
   "outputs": [
    {
     "output_type": "execute_result",
     "data": {
      "text/plain": [
       "     year                                city  home_team_name away_team_name  \\\n",
       "708  2010                       Johannesburg     South Africa         Mexico   \n",
       "709  2010                          Cape Town          Uruguay         France   \n",
       "710  2010  Nelson Mandela Bay/Port Elizabeth   Korea Republic         Greece   \n",
       "711  2010                       Johannesburg        Argentina        Nigeria   \n",
       "712  2010                            Phokeng          England            USA   \n",
       "..    ...                                 ...             ...            ...   \n",
       "767  2010                       Johannesburg         Paraguay          Spain   \n",
       "768  2010                          Cape Town          Uruguay    Netherlands   \n",
       "769  2010                             Durban          Germany          Spain   \n",
       "770  2010  Nelson Mandela Bay/Port Elizabeth          Uruguay        Germany   \n",
       "771  2010                       Johannesburg      Netherlands          Spain   \n",
       "\n",
       "     home_team_goals  away_team_goals  \n",
       "708              1.0              1.0  \n",
       "709              0.0              0.0  \n",
       "710              2.0              0.0  \n",
       "711              1.0              0.0  \n",
       "712              1.0              1.0  \n",
       "..               ...              ...  \n",
       "767              0.0              1.0  \n",
       "768              2.0              3.0  \n",
       "769              0.0              1.0  \n",
       "770              2.0              3.0  \n",
       "771              0.0              1.0  \n",
       "\n",
       "[64 rows x 6 columns]"
      ],
      "text/html": "<div>\n<style scoped>\n    .dataframe tbody tr th:only-of-type {\n        vertical-align: middle;\n    }\n\n    .dataframe tbody tr th {\n        vertical-align: top;\n    }\n\n    .dataframe thead th {\n        text-align: right;\n    }\n</style>\n<table border=\"1\" class=\"dataframe\">\n  <thead>\n    <tr style=\"text-align: right;\">\n      <th></th>\n      <th>year</th>\n      <th>city</th>\n      <th>home_team_name</th>\n      <th>away_team_name</th>\n      <th>home_team_goals</th>\n      <th>away_team_goals</th>\n    </tr>\n  </thead>\n  <tbody>\n    <tr>\n      <th>708</th>\n      <td>2010</td>\n      <td>Johannesburg</td>\n      <td>South Africa</td>\n      <td>Mexico</td>\n      <td>1.0</td>\n      <td>1.0</td>\n    </tr>\n    <tr>\n      <th>709</th>\n      <td>2010</td>\n      <td>Cape Town</td>\n      <td>Uruguay</td>\n      <td>France</td>\n      <td>0.0</td>\n      <td>0.0</td>\n    </tr>\n    <tr>\n      <th>710</th>\n      <td>2010</td>\n      <td>Nelson Mandela Bay/Port Elizabeth</td>\n      <td>Korea Republic</td>\n      <td>Greece</td>\n      <td>2.0</td>\n      <td>0.0</td>\n    </tr>\n    <tr>\n      <th>711</th>\n      <td>2010</td>\n      <td>Johannesburg</td>\n      <td>Argentina</td>\n      <td>Nigeria</td>\n      <td>1.0</td>\n      <td>0.0</td>\n    </tr>\n    <tr>\n      <th>712</th>\n      <td>2010</td>\n      <td>Phokeng</td>\n      <td>England</td>\n      <td>USA</td>\n      <td>1.0</td>\n      <td>1.0</td>\n    </tr>\n    <tr>\n      <th>...</th>\n      <td>...</td>\n      <td>...</td>\n      <td>...</td>\n      <td>...</td>\n      <td>...</td>\n      <td>...</td>\n    </tr>\n    <tr>\n      <th>767</th>\n      <td>2010</td>\n      <td>Johannesburg</td>\n      <td>Paraguay</td>\n      <td>Spain</td>\n      <td>0.0</td>\n      <td>1.0</td>\n    </tr>\n    <tr>\n      <th>768</th>\n      <td>2010</td>\n      <td>Cape Town</td>\n      <td>Uruguay</td>\n      <td>Netherlands</td>\n      <td>2.0</td>\n      <td>3.0</td>\n    </tr>\n    <tr>\n      <th>769</th>\n      <td>2010</td>\n      <td>Durban</td>\n      <td>Germany</td>\n      <td>Spain</td>\n      <td>0.0</td>\n      <td>1.0</td>\n    </tr>\n    <tr>\n      <th>770</th>\n      <td>2010</td>\n      <td>Nelson Mandela Bay/Port Elizabeth</td>\n      <td>Uruguay</td>\n      <td>Germany</td>\n      <td>2.0</td>\n      <td>3.0</td>\n    </tr>\n    <tr>\n      <th>771</th>\n      <td>2010</td>\n      <td>Johannesburg</td>\n      <td>Netherlands</td>\n      <td>Spain</td>\n      <td>0.0</td>\n      <td>1.0</td>\n    </tr>\n  </tbody>\n</table>\n<p>64 rows × 6 columns</p>\n</div>"
     },
     "metadata": {},
     "execution_count": 123
    }
   ],
   "source": [
    "worldcup_year"
   ]
  },
  {
   "cell_type": "code",
   "execution_count": null,
   "metadata": {},
   "outputs": [],
   "source": [
    "goals = {}\n",
    "wins = {}\n",
    "losses = {}\n",
    "ties = {}\n",
    "\n",
    "for team in teams:\n",
    "    if home_team_goals == away_team_goals:\n",
    "        dict[\"home_team_name\", \"away_team_name\"] = ties +=\n",
    "\n",
    "# for game in worldcup_year:\n",
    "#     if dict[home_team]:\n",
    "#         dict[home_team] += home_team_goals\n",
    "#     else:\n",
    "#         dict[home_team] = home_team_goals\n",
    "#     if dict[away_team]:\n",
    "#         dict[home_team] += home_team_goals\n",
    "#     else:\n",
    "#         dict[home_team] = home_team_goals\n",
    "#     if home_team_goals > away_team_goals:\n",
    "#         wins[home_team] += 1\n",
    "#         losses[away_team] += 1\n",
    "# {\n",
    "# team1: number_goals,\n",
    "# team2: number_goals\n",
    "# }"
   ]
  }
 ]
}